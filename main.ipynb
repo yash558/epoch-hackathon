{
 "cells": [
  {
   "cell_type": "code",
   "execution_count": 53,
   "metadata": {},
   "outputs": [],
   "source": [
    "import numpy as np\n",
    "from sklearn.datasets import fetch_california_housing\n",
    "from sklearn.cluster import KMeans\n",
    "california_housing = fetch_california_housing(as_frame=True)"
   ]
  },
  {
   "cell_type": "code",
   "execution_count": 7,
   "metadata": {},
   "outputs": [],
   "source": [
    "def distance_point_to_line(point, line):\n",
    "    a, b = line\n",
    "    pa = np.array(a)\n",
    "    pb = np.array(b)\n",
    "    p = np.array(point)\n",
    "    return np.linalg.norm(np.cross(pb-p, pa-p))/np.linalg.norm(pb-pa)"
   ]
  },
  {
   "cell_type": "code",
   "execution_count": 67,
   "metadata": {},
   "outputs": [],
   "source": [
    "# mean square error \n",
    "def mean_square_error(houses, line):\n",
    "    mse = 0\n",
    "    for house in houses:\n",
    "        mse += distance_point_to_line(house, line) ** 2\n",
    "    return mse / len(houses)"
   ]
  },
  {
   "cell_type": "code",
   "execution_count": 8,
   "metadata": {},
   "outputs": [],
   "source": [
    "def total_distance_to_line(houses, line):\n",
    "    total_distance = 0\n",
    "    for house in houses:\n",
    "        total_distance += distance_point_to_line(house, line)\n",
    "    return total_distance"
   ]
  },
  {
   "cell_type": "code",
   "execution_count": 9,
   "metadata": {},
   "outputs": [],
   "source": [
    "def efficient_line(houses, iterations=1000, learning_rate=0.01):\n",
    "    line = (np.random.rand(2), np.random.rand(2))\n",
    "    for _ in range(iterations):\n",
    "        gradient = np.zeros((2,2))\n",
    "        for house in houses:\n",
    "            pa = np.array(line[0])\n",
    "            pb = np.array(line[1])\n",
    "            p = np.array(house)\n",
    "            gradient[0] += np.cross(pb-p, pa-p)\n",
    "            gradient[1] += np.cross(pa-p, pb-p)\n",
    "        line = (line[0] - learning_rate * gradient[0], line[1] - learning_rate * gradient[1])\n",
    "    return line"
   ]
  },
  {
   "cell_type": "code",
   "execution_count": 34,
   "metadata": {},
   "outputs": [],
   "source": [
    "def fair_line(houses, tolerance=0.01):\n",
    "    left = min(houses, key=lambda x: x[0])\n",
    "    right = max(houses, key=lambda x: x[0])\n",
    "    line = ((right[1] - left[1]) / 2, (left[0] + right[0]) / 2)  \n",
    "    while True:\n",
    "        max_distance = max(distance_point_to_line(house, line) for house in houses)\n",
    "        left_line = ((right[1] - left[1]) / 2 - tolerance, (left[0] + right[0]) / 2)\n",
    "        right_line = ((right[1] - left[1]) / 2 + tolerance, (left[0] + right[0]) / 2)\n",
    "        if distance_point_to_line(left, left_line) < distance_point_to_line(left, right_line):\n",
    "            right = line\n",
    "        else:\n",
    "            left = line\n",
    "        new_line = ((right[1] - left[1]) / 2, (left[0] + right[0]) / 2)\n",
    "        if abs(max_distance - max(distance_point_to_line(house, new_line) for house in houses)) < tolerance:\n",
    "            return new_line"
   ]
  },
  {
   "cell_type": "code",
   "execution_count": 56,
   "metadata": {},
   "outputs": [],
   "source": [
    "def multiple_efficient_lines(houses, k):\n",
    "    kmeans = KMeans(n_clusters=k, random_state=42)\n",
    "    kmeans.fit(houses)\n",
    "    lines = []\n",
    "    for center in kmeans.cluster_centers_:      \n",
    "        closest_house_idx = np.argmin(np.linalg.norm(houses - center, axis=1))\n",
    "        closest_house = houses[closest_house_idx]\n",
    "        lines.append((center - closest_house, closest_house))\n",
    "    return lines"
   ]
  },
  {
   "cell_type": "code",
   "execution_count": 48,
   "metadata": {},
   "outputs": [],
   "source": [
    "california_housing = fetch_california_housing()\n",
    "houses = california_housing.data[:, [6, 7]]"
   ]
  },
  {
   "cell_type": "code",
   "execution_count": 59,
   "metadata": {},
   "outputs": [
    {
     "name": "stdout",
     "output_type": "stream",
     "text": [
      "(array([2.07590872e+20, 2.07590872e+20]), array([-2.07590872e+20, -2.07590872e+20]))\n"
     ]
    }
   ],
   "source": [
    "print(efficient_line(houses[:1000]))"
   ]
  },
  {
   "cell_type": "code",
   "execution_count": null,
   "metadata": {},
   "outputs": [],
   "source": [
    "print(houses)"
   ]
  },
  {
   "cell_type": "code",
   "execution_count": 52,
   "metadata": {},
   "outputs": [
    {
     "name": "stdout",
     "output_type": "stream",
     "text": [
      "(-79.98750000000001, 18.857499999999998)\n"
     ]
    }
   ],
   "source": [
    "print(fair_line(houses))"
   ]
  },
  {
   "cell_type": "code",
   "execution_count": 57,
   "metadata": {},
   "outputs": [
    {
     "name": "stdout",
     "output_type": "stream",
     "text": [
      "multiple Efficient lines [(array([ 0.16532823, -0.18724832,  0.90271494,  0.05134236, -0.86234899,\n",
      "        0.86299025,  1.6052953 , -1.30391946]), array([   3.7312    ,   31.        ,    4.6350211 ,    1.05696203,\n",
      "        944.        ,    1.99156118,   34.16      , -118.38      ])), (array([ 1.24587075e+00,  6.78260870e+00,  7.60454359e-02,  2.61181613e-04,\n",
      "       -5.92885375e-01,  4.73776642e+00,  6.28794466e-01, -1.83120553e+00]), array([ 2.90720000e+00,  8.00000000e+00,  5.38984509e+00,  1.07358003e+00,\n",
      "        6.13300000e+03,  2.63898451e+00,  3.45400000e+01, -1.17220000e+02])), (array([-1.63933978,  1.79231945, -1.70329644,  0.00760077, -3.45949561,\n",
      "       -0.42069289,  1.03677302, -0.55468666]), array([ 5.40910000e+00,  2.20000000e+01,  6.81918239e+00,  1.05817610e+00,\n",
      "        2.34700000e+03,  3.69025157e+00,  3.42600000e+01, -1.18740000e+02]))]\n"
     ]
    }
   ],
   "source": [
    "print(\"multiple Efficient lines\" , multiple_efficient_lines(california_housing.data.to_numpy(), 3))"
   ]
  }
 ],
 "metadata": {
  "kernelspec": {
   "display_name": "Python 3",
   "language": "python",
   "name": "python3"
  },
  "language_info": {
   "codemirror_mode": {
    "name": "ipython",
    "version": 3
   },
   "file_extension": ".py",
   "mimetype": "text/x-python",
   "name": "python",
   "nbconvert_exporter": "python",
   "pygments_lexer": "ipython3",
   "version": "3.11.8"
  }
 },
 "nbformat": 4,
 "nbformat_minor": 2
}
